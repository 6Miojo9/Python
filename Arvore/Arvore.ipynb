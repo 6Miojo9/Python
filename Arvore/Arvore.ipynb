{
 "cells": [
  {
   "cell_type": "code",
   "execution_count": 25,
   "metadata": {},
   "outputs": [
    {
     "name": "stdout",
     "output_type": "stream",
     "text": [
      "  valor: 5\n",
      "  esquerda:\n",
      "      valor: 2\n",
      "      esquerda:\n",
      "          valor: 1\n",
      "          esquerda: None\n",
      "          direita: None\n",
      "          altura: 1\n",
      "      direita:\n",
      "          valor: 3\n",
      "          esquerda: None\n",
      "          direita:\n",
      "              valor: 4\n",
      "              esquerda: None\n",
      "              direita: None\n",
      "              altura: 1\n",
      "          altura: 2\n",
      "      altura: 3\n",
      "  direita:\n",
      "      valor: 6\n",
      "      esquerda: None\n",
      "      direita:\n",
      "          valor: 7\n",
      "          esquerda: None\n",
      "          direita: None\n",
      "          altura: 1\n",
      "      altura: 2\n",
      "  altura: 4\n"
     ]
    }
   ],
   "source": [
    "import copy\n",
    "\n",
    "class No: # Classe que cria e adiciona novos Nós.\n",
    "    def __init__(self, valor):\n",
    "        self.valor = valor # Valor do Nó\n",
    "        self.esquerda = None # Ponteiro para a esquerda.\n",
    "        self.direita = None # Ponteiro para a direita.\n",
    "        self.altura = 1 # Nivel do Nó (inicial: 1).\n",
    "        \n",
    "    \n",
    "    def direito(self, valor): # Cria e adiciona o novo Nó para o ponteiro direito.\n",
    "        self.direita = No(valor) # Define o novo no com o valor para a direito.\n",
    "        \n",
    "        \n",
    "    def esquerdo(self, valor): # Cria e adiciona o novo Nó para o ponteiro esquerdo.\n",
    "        self.esquerda = No(valor) # Define o novo no com o valor para a esquerda.\n",
    "        \n",
    "        \n",
    "    def novo_no(self, valor): # Função que decide a criação e direção de um novo Nó.\n",
    "        if valor >= self.valor:\n",
    "            if self.direita == None:\n",
    "                self.direito(valor) # Chama a função para o ponteiro direito.\n",
    "                self.altura_no()\n",
    "            else:\n",
    "                self.direita.novo_no(valor) # Re-chama a função para adicionar o Nó para o no filho já apontado para a direita.\n",
    "                self.altura_no()\n",
    "                \n",
    "        else:\n",
    "            if self.esquerda == None:\n",
    "                self.esquerdo(valor) # Chama a função para o ponteiro esquerdo.\n",
    "                self.altura_no()\n",
    "            else:\n",
    "                self.esquerda.novo_no(valor) # Re-chama a função para adicionar o Nó para o no filho já apontado para a esquerda.\n",
    "                self.altura_no()\n",
    "    \n",
    "    def altura_no(self):\n",
    "        self.altura = 1\n",
    "        if self.direita != None:\n",
    "            if self.esquerda != None:\n",
    "                if self.direita.altura >= self.esquerda.altura:\n",
    "                    self.altura += self.direita.altura\n",
    "                else:\n",
    "                    self.altura += self.esquerda.altura\n",
    "            else:\n",
    "                self.altura +=  self.direita.altura\n",
    "        elif self.esquerda != None:\n",
    "            self.altura += self.esquerda.altura\n",
    "            \n",
    "def print_obj(obj, level=0):\n",
    "    indent = \"  \" * level\n",
    "    \n",
    "    if hasattr(obj, '__dict__'):\n",
    "        for key, value in vars(obj).items():\n",
    "            if hasattr(value, '__dict__'):\n",
    "                print(f\"{indent}  {key}:\")\n",
    "                print_obj(value, level + 2)\n",
    "            else:\n",
    "                print(f\"{indent}  {key}: {value}\")\n",
    "                \n",
    "    else:\n",
    "        print(f\"{indent}{obj}\")\n",
    "    \n",
    "arvore = No(int(input(\"Digite o primeiro no\"))) #Variavel que guarda a arvore\n",
    "\n",
    "for i in range(6):\n",
    "    arvore.novo_no(int(input(\"Digite:\"))) # Recebe o valor para o novo Nó e insere a partir da raiz até a posição correta na arvore.\n",
    "print_obj(arvore)"
   ]
  },
  {
   "cell_type": "code",
   "execution_count": null,
   "metadata": {},
   "outputs": [],
   "source": [
    " # if self.direita != None and self.esquerda == None: # Verifica se o Nó pai está balanciado.\n",
    "        #     if self.direita.nivel == 2:\n",
    "        #         # aux = copy.deepcopy(self.direita)\n",
    "        #         # self.direita = copy.deepcopy(aux.esquerda)\n",
    "        #         # aux.esquerda = copy.deepcopy(self)\n",
    "        #         # self.valor = copy.deepcopy(aux.valor)\n",
    "        #         # self.direita = copy.deepcopy(aux.direita)\n",
    "        #         # self.esquerda = copy.deepcopy(aux.esquerda)\n",
    "        #         pass\n",
    "        # elif self.direita == None and self.esquerda != None:\n",
    "        #     if self.esquerda.nivel == 2:\n",
    "        #         # aux = copy.deepcopy(self.esquerda)\n",
    "        #         # self.esquerda = copy.deepcopy(aux.direita)\n",
    "        #         # aux.direita = copy.deepcopy(self)\n",
    "        #         # self.valor = copy.deepcopy(aux.valor)\n",
    "        #         # self.direita = copy.deepcopy(aux.direita)\n",
    "        #         # self.esquerda = copy.deepcopy(aux.esquerda)\n",
    "        #         pass"
   ]
  },
  {
   "cell_type": "code",
   "execution_count": 1,
   "metadata": {},
   "outputs": [
    {
     "name": "stdout",
     "output_type": "stream",
     "text": [
      "10.00\n"
     ]
    }
   ],
   "source": [
    "i = 10\n",
    "\n",
    "print(f\"{i:.2f}\")"
   ]
  }
 ],
 "metadata": {
  "kernelspec": {
   "display_name": "Python 3",
   "language": "python",
   "name": "python3"
  },
  "language_info": {
   "codemirror_mode": {
    "name": "ipython",
    "version": 3
   },
   "file_extension": ".py",
   "mimetype": "text/x-python",
   "name": "python",
   "nbconvert_exporter": "python",
   "pygments_lexer": "ipython3",
   "version": "3.12.5"
  }
 },
 "nbformat": 4,
 "nbformat_minor": 2
}
