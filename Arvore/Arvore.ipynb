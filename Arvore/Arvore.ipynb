{
 "cells": [
  {
   "cell_type": "code",
   "execution_count": 13,
   "metadata": {},
   "outputs": [
    {
     "name": "stdout",
     "output_type": "stream",
     "text": [
      "Os dos são iguais: direita 1, esquerda: 1.\n",
      "O esquerdo é maior 3, direito: 1.\n",
      "O esquerdo é maior 3, direito: 2.\n",
      "Os dos são iguais: direita 1, esquerda: 1.\n",
      "Os dos são iguais: direita 3, esquerda: 3.\n",
      "--------\n"
     ]
    }
   ],
   "source": [
    "class Arvore(): # Classes que cria da arvore e da raiz.\n",
    "    def __init__(self, raiz):\n",
    "        self.raiz = No(raiz) # Define a raiz com um novo Nó.\n",
    "    \n",
    "class No: # Classe que cria e adiciona novos Nós.\n",
    "    def __init__(self, valor):\n",
    "        self.valor = valor # Valor do Nó\n",
    "        self.esquerda = None # Ponteiro para a esquerda.\n",
    "        self.direita = None # Ponteiro para a direita.\n",
    "        self.nivel = 1 # Nivel do Nó (inicial: 1).\n",
    "    \n",
    "    def direito(self, valor): # Cria e adiciona o novo Nó para o ponteiro direito.\n",
    "        self.direita = No(valor) # Define o novo no com o valor para a direito.\n",
    "        self.nivel += self.direita.nivel # Adiciona o novo nivel para o Nó pai.\n",
    "        \n",
    "    def esquerdo(self, valor): # Cria e adiciona o novo Nó para o ponteiro esquerdo.\n",
    "        self.esquerda = No(valor) # Define o novo no com o valor para a esquerda.\n",
    "        self.nivel += self.esquerda.nivel # Adiciona o novo nivel para o Nó pai.\n",
    "    \n",
    "    def novo_no(self, valor): # Função que decide a criação e direção de um novo Nó.\n",
    "        if valor >= self.valor and self.direita == None:\n",
    "            self.direito(valor) # Chama a função para o ponteiro direito.\n",
    "        elif valor >= self.valor:\n",
    "            self.direita.novo_no(valor) # Re-chama a função para adicionar o Nó para o no filho já apontado para a direita.\n",
    "        elif valor <= self.valor and self.esquerda == None:\n",
    "            self.esquerdo(valor) # Chama a função para o ponteiro esquerdo.\n",
    "        elif valor <= self.valor:\n",
    "            self.esquerda.novo_no(valor) # Re-chama a função para adicionar o Nó para o no filho já apontado para a esquerda.\n",
    "    \n",
    "        if self.direita != None and self.esquerda != None:\n",
    "            if self.direita.nivel > self.esquerda.nivel:\n",
    "                print(f\"O direito é maior {self.direita.nivel}, esquerdo: {self.esquerda.nivel}.\")\n",
    "            elif self.esquerda.nivel > self.direita.nivel:\n",
    "                print(f\"O esquerdo é maior {self.esquerda.nivel}, direito: {self.direita.nivel}.\")\n",
    "            else:\n",
    "                print(f\"Os dos são iguais: direita {self.direita.nivel}, esquerda: {self.esquerda.nivel}.\")\n",
    "\n",
    "arvore = Arvore(int(input(\"Digite o primeiro no\"))) # Variavel que guarda a arvore\n",
    "\n",
    "for i in range(6):\n",
    "    arvore.raiz.novo_no(int(input(\"Digite:\"))) # Recebe o valor para o novo Nó e insere a partir da raiz até a posição correta na arvore."
   ]
  },
  {
   "cell_type": "code",
   "execution_count": 24,
   "metadata": {},
   "outputs": [
    {
     "name": "stdout",
     "output_type": "stream",
     "text": [
      "1\n",
      "2\n",
      "O Nó 1 tem o lado direito desbalanciado: 2.\n",
      "3 1\n",
      "2 2\n",
      "1 2\n",
      "2\n"
     ]
    }
   ],
   "source": [
    "import flet as ft\n",
    "\n",
    "class Arvore(): # Classes que cria da arvore e da raiz.\n",
    "    def __init__(self, raiz):\n",
    "        self.raiz = No(raiz) # Define a raiz com um novo Nó.\n",
    "    \n",
    "class No: # Classe que cria e adiciona novos Nós.\n",
    "    def __init__(self, valor):\n",
    "        self.valor = valor # Valor do Nó\n",
    "        self.esquerda = None # Ponteiro para a esquerda.\n",
    "        self.direita = None # Ponteiro para a direita.\n",
    "        self.nivel = 1 # Nivel do Nó (inicial: 1).\n",
    "    \n",
    "    def direito(self, valor): # Cria e adiciona o novo Nó para o ponteiro direito.\n",
    "        print(self.valor)\n",
    "        self.direita = No(valor) # Define o novo no com o valor para a direito.\n",
    "        self.nivel += self.direita.nivel # Adiciona o novo nivel para o Nó pai.\n",
    "        \n",
    "    def esquerdo(self, valor): # Cria e adiciona o novo Nó para o ponteiro esquerdo.\n",
    "        self.esquerda = No(valor) # Define o novo no com o valor para a esquerda.\n",
    "        self.nivel += self.esquerda.nivel # Adiciona o novo nivel para o Nó pai.\n",
    "    \n",
    "    def novo_no(self, valor): # Função que decide a criação e direção de um novo Nó.\n",
    "        if valor >= self.valor and self.direita == None:\n",
    "            self.direito(valor) # Chama a função para o ponteiro direito.\n",
    "        elif valor >= self.valor:\n",
    "            self.direita.novo_no(valor) # Re-chama a função para adicionar o Nó para o no filho já apontado para a direita.\n",
    "        elif valor <= self.valor and self.esquerda == None:\n",
    "            self.esquerdo(valor) # Chama a função para o ponteiro esquerdo.\n",
    "        elif valor <= self.valor:\n",
    "            self.esquerda.novo_no(valor) # Re-chama a função para adicionar o Nó para o no filho já apontado para a esquerda.\n",
    "\n",
    "        if self.direita != None and self.esquerda == None: # Verifica se o Nó pai está balanciado.\n",
    "            if self.direita.nivel == 2:\n",
    "                print(f\"O Nó {self.valor} tem o lado direito desbalanciado: {self.direita.nivel}.\")\n",
    "        else:\n",
    "            if self.esquerda.nivel == 2:\n",
    "                print(f\"O Nó {self.valor} tem o lado esquerdo desbalanciado: {self.esquerda.nivel}.\")\n",
    "    \n",
    "    def printar(self):\n",
    "        if self.esquerda != None:\n",
    "            self.esquerda.printar()\n",
    "        elif self.direita != None:\n",
    "            self.direita.printar()\n",
    "        print(self.valor, self.nivel)\n",
    "\n",
    "arvore = Arvore(int(input(\"Digite o primeiro no\"))) #Variavel que guarda a arvore\n",
    "\n",
    "for i in range(2):\n",
    "    arvore.raiz.novo_no(int(input(\"Digite:\"))) # Recebe o valor para o novo Nó e insere a partir da raiz até a posição correta na arvore.\n",
    "arvore.raiz.printar()\n",
    "print(arvore.raiz.nivel)\n"
   ]
  }
 ],
 "metadata": {
  "kernelspec": {
   "display_name": "Python 3",
   "language": "python",
   "name": "python3"
  },
  "language_info": {
   "codemirror_mode": {
    "name": "ipython",
    "version": 3
   },
   "file_extension": ".py",
   "mimetype": "text/x-python",
   "name": "python",
   "nbconvert_exporter": "python",
   "pygments_lexer": "ipython3",
   "version": "3.12.5"
  }
 },
 "nbformat": 4,
 "nbformat_minor": 2
}
