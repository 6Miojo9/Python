{
 "cells": [
  {
   "cell_type": "code",
   "execution_count": 63,
   "metadata": {},
   "outputs": [
    {
     "name": "stdout",
     "output_type": "stream",
     "text": [
      "  valor: 1\n",
      "  esquerda: None\n",
      "  direita: None\n",
      "  nivel: 2\n"
     ]
    }
   ],
   "source": [
    "class No: # Classe que cria e adiciona novos Nós.\n",
    "    def __init__(self, valor):\n",
    "        self.valor = valor # Valor do Nó\n",
    "        self.esquerda = None # Ponteiro para a esquerda.\n",
    "        self.direita = None # Ponteiro para a direita.\n",
    "        self.nivel = 1 # Nivel do Nó (inicial: 1).\n",
    "    \n",
    "    def direito(self, valor): # Cria e adiciona o novo Nó para o ponteiro direito.\n",
    "        self.direita = No(valor) # Define o novo no com o valor para a direito.\n",
    "        self.nivel += self.direita.nivel\n",
    "        \n",
    "    def esquerdo(self, valor): # Cria e adiciona o novo Nó para o ponteiro esquerdo.\n",
    "        self.esquerda = No(valor) # Define o novo no com o valor para a esquerda.\n",
    "        self.nivel += self.esquerda.nivel\n",
    "            \n",
    "    def novo_no(self, valor): # Função que decide a criação e direção de um novo Nó.\n",
    "        if valor >= self.valor and self.direita == None:\n",
    "            self.direito(valor) # Chama a função para o ponteiro direito.\n",
    "        elif valor >= self.valor:\n",
    "            self.direita.novo_no(valor) # Re-chama a função para adicionar o Nó para o no filho já apontado para a direita.\n",
    "            \n",
    "        elif valor <= self.valor and self.esquerda == None:\n",
    "            self.esquerdo(valor) # Chama a função para o ponteiro esquerdo.\n",
    "        elif valor <= self.valor:\n",
    "            self.esquerda.novo_no(valor) # Re-chama a função para adicionar o Nó para o no filho já apontado para a esquerda.\n",
    "            \n",
    "        if self.direita != None and self.esquerda == None: # Verifica se o Nó pai está balanciado.\n",
    "            if self.direita.nivel == 2:\n",
    "                aux = self.direita\n",
    "                self.direita = self.direita.esquerda\n",
    "                aux.esquerda = self\n",
    "                return aux\n",
    "            else:\n",
    "                return self\n",
    "        else:\n",
    "            if self.esquerda.nivel == 2:\n",
    "                pass\n",
    "\n",
    "def print_obj(obj, level=0):\n",
    "    indent = \"  \" * level\n",
    "    \n",
    "    if hasattr(obj, '__dict__'):\n",
    "        \n",
    "        for key, value in vars(obj).items():\n",
    "            if hasattr(value, '__dict__'):\n",
    "                print(f\"{indent}  {key}:\")\n",
    "                print_obj(value, level + 2)\n",
    "            else:\n",
    "                print(f\"{indent}  {key}: {value}\")\n",
    "                \n",
    "    else:\n",
    "        print(f\"{indent}{obj}\")\n",
    "        \n",
    "arvore = No(int(input(\"Digite o primeiro no\"))) #Variavel que guarda a arvore\n",
    "\n",
    "for i in range(2):\n",
    "    arvore.novo_no(int(input(\"Digite:\"))) # Recebe o valor para o novo Nó e insere a partir da raiz até a posição correta na arvore.\n",
    "print_obj(arvore)"
   ]
  }
 ],
 "metadata": {
  "kernelspec": {
   "display_name": "Python 3",
   "language": "python",
   "name": "python3"
  },
  "language_info": {
   "codemirror_mode": {
    "name": "ipython",
    "version": 3
   },
   "file_extension": ".py",
   "mimetype": "text/x-python",
   "name": "python",
   "nbconvert_exporter": "python",
   "pygments_lexer": "ipython3",
   "version": "3.12.5"
  }
 },
 "nbformat": 4,
 "nbformat_minor": 2
}
