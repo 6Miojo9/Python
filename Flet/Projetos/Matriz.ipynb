{
 "cells": [
  {
   "cell_type": "code",
   "execution_count": 66,
   "metadata": {},
   "outputs": [
    {
     "name": "stdout",
     "output_type": "stream",
     "text": [
      "[[2, 7], [22, 17]]\n"
     ]
    }
   ],
   "source": [
    "def axb(a, b):\n",
    "    x = []\n",
    "    for d in range(3):\n",
    "        x.insert(d, a[d] * b[d])\n",
    "    return sum(x)\n",
    "\n",
    "a = [[2, -1, 0], [1, 0, 3]]\n",
    "b = [[1, 0 , 7], [2, -3, 5]]\n",
    "\n",
    "r = [[axb(a[0], b[0]), axb(a[0], b[1])], [axb(a[1], b[0]), axb(a[1], b[1])]]\n",
    "\n",
    "print(r)\n"
   ]
  }
 ],
 "metadata": {
  "kernelspec": {
   "display_name": "Python 3",
   "language": "python",
   "name": "python3"
  },
  "language_info": {
   "codemirror_mode": {
    "name": "ipython",
    "version": 3
   },
   "file_extension": ".py",
   "mimetype": "text/x-python",
   "name": "python",
   "nbconvert_exporter": "python",
   "pygments_lexer": "ipython3",
   "version": "3.12.5"
  }
 },
 "nbformat": 4,
 "nbformat_minor": 2
}
