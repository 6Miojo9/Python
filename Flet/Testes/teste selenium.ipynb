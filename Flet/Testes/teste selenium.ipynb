{
 "cells": [
  {
   "cell_type": "code",
   "execution_count": 24,
   "metadata": {},
   "outputs": [
    {
     "ename": "NoSuchElementException",
     "evalue": "Message: no such element: Unable to locate element: {\"method\":\"xpath\",\"selector\":\"//*[@id=\"AFRAME_1206P\"]/div/div/div[2]/table/tbody/tr[9]\"}\n  (Session info: chrome=130.0.6723.59); For documentation on this error, please visit: https://www.selenium.dev/documentation/webdriver/troubleshooting/errors#no-such-element-exception\nStacktrace:\n\tGetHandleVerifier [0x00FE74D3+23139]\n\t(No symbol) [0x00F6FCA4]\n\t(No symbol) [0x00E4C2A3]\n\t(No symbol) [0x00E8DC66]\n\t(No symbol) [0x00E8DEAB]\n\t(No symbol) [0x00ECB992]\n\t(No symbol) [0x00EAFEC4]\n\t(No symbol) [0x00EC9564]\n\t(No symbol) [0x00EAFC16]\n\t(No symbol) [0x00E8216C]\n\t(No symbol) [0x00E830FD]\n\tGetHandleVerifier [0x0127BAA3+2727987]\n\tGetHandleVerifier [0x012D476E+3091710]\n\tGetHandleVerifier [0x012CCF52+3060962]\n\tGetHandleVerifier [0x01081460+653808]\n\t(No symbol) [0x00F78E5D]\n\t(No symbol) [0x00F75A48]\n\t(No symbol) [0x00F75BE0]\n\t(No symbol) [0x00F68110]\n\tBaseThreadInitThunk [0x76507BA9+25]\n\tRtlInitializeExceptionChain [0x7799C0CB+107]\n\tRtlClearBits [0x7799C04F+191]\n",
     "output_type": "error",
     "traceback": [
      "\u001b[1;31m---------------------------------------------------------------------------\u001b[0m",
      "\u001b[1;31mNoSuchElementException\u001b[0m                    Traceback (most recent call last)",
      "Cell \u001b[1;32mIn[24], line 18\u001b[0m\n\u001b[0;32m     16\u001b[0m navegador\u001b[38;5;241m.\u001b[39mfind_element(\u001b[38;5;124m'\u001b[39m\u001b[38;5;124mxpath\u001b[39m\u001b[38;5;124m'\u001b[39m, \u001b[38;5;124m'\u001b[39m\u001b[38;5;124m//*[@id=\u001b[39m\u001b[38;5;124m\"\u001b[39m\u001b[38;5;124mTBB_tbm2\u001b[39m\u001b[38;5;124m\"\u001b[39m\u001b[38;5;124m]/div[2]/div[2]\u001b[39m\u001b[38;5;124m'\u001b[39m)\u001b[38;5;241m.\u001b[39mclick()\n\u001b[0;32m     17\u001b[0m navegador\u001b[38;5;241m.\u001b[39mfind_element(\u001b[38;5;124m'\u001b[39m\u001b[38;5;124mxpath\u001b[39m\u001b[38;5;124m'\u001b[39m, \u001b[38;5;124m'\u001b[39m\u001b[38;5;124m/html/body/div[2]/table/tbody/tr[2]/td/table/tbody/tr/td/div[1]/div[2]/div/form/table[1]/tbody/tr[2]/td[2]/table/tbody/tr/td[2]/img\u001b[39m\u001b[38;5;124m'\u001b[39m)\u001b[38;5;241m.\u001b[39mclick()\n\u001b[1;32m---> 18\u001b[0m \u001b[43mnavegador\u001b[49m\u001b[38;5;241;43m.\u001b[39;49m\u001b[43mfind_element\u001b[49m\u001b[43m(\u001b[49m\u001b[38;5;124;43m'\u001b[39;49m\u001b[38;5;124;43mxpath\u001b[39;49m\u001b[38;5;124;43m'\u001b[39;49m\u001b[43m,\u001b[49m\u001b[43m \u001b[49m\u001b[38;5;124;43m'\u001b[39;49m\u001b[38;5;124;43m//*[@id=\u001b[39;49m\u001b[38;5;124;43m\"\u001b[39;49m\u001b[38;5;124;43mAFRAME_1206P\u001b[39;49m\u001b[38;5;124;43m\"\u001b[39;49m\u001b[38;5;124;43m]/div/div/div[2]/table/tbody/tr[9]\u001b[39;49m\u001b[38;5;124;43m'\u001b[39;49m\u001b[43m)\u001b[49m\u001b[38;5;241m.\u001b[39mclick()\n\u001b[0;32m     19\u001b[0m navegador\u001b[38;5;241m.\u001b[39mfind_element(\u001b[38;5;124m'\u001b[39m\u001b[38;5;124mxpath\u001b[39m\u001b[38;5;124m'\u001b[39m, \u001b[38;5;124m'\u001b[39m\u001b[38;5;124m/html/body/div[2]/table/tbody/tr[2]/td/table/tbody/tr/td/div[5]/div/div/div/div/div/div[2]/div/form/div[4]/table/tbody/tr/td/button\u001b[39m\u001b[38;5;124m'\u001b[39m)\u001b[38;5;241m.\u001b[39mclick()\n\u001b[0;32m     20\u001b[0m navegador\u001b[38;5;241m.\u001b[39mfind_element(\u001b[38;5;124m'\u001b[39m\u001b[38;5;124mxpath\u001b[39m\u001b[38;5;124m'\u001b[39m, \u001b[38;5;124m'\u001b[39m\u001b[38;5;124m//*[@id=\u001b[39m\u001b[38;5;124m\"\u001b[39m\u001b[38;5;124m1001\u001b[39m\u001b[38;5;124m\"\u001b[39m\u001b[38;5;124m]\u001b[39m\u001b[38;5;124m'\u001b[39m)\u001b[38;5;241m.\u001b[39mclick()\n",
      "File \u001b[1;32mc:\\Users\\Gadyel\\AppData\\Local\\Programs\\Python\\Python312\\Lib\\site-packages\\selenium\\webdriver\\remote\\webdriver.py:748\u001b[0m, in \u001b[0;36mWebDriver.find_element\u001b[1;34m(self, by, value)\u001b[0m\n\u001b[0;32m    745\u001b[0m     by \u001b[38;5;241m=\u001b[39m By\u001b[38;5;241m.\u001b[39mCSS_SELECTOR\n\u001b[0;32m    746\u001b[0m     value \u001b[38;5;241m=\u001b[39m \u001b[38;5;124mf\u001b[39m\u001b[38;5;124m'\u001b[39m\u001b[38;5;124m[name=\u001b[39m\u001b[38;5;124m\"\u001b[39m\u001b[38;5;132;01m{\u001b[39;00mvalue\u001b[38;5;132;01m}\u001b[39;00m\u001b[38;5;124m\"\u001b[39m\u001b[38;5;124m]\u001b[39m\u001b[38;5;124m'\u001b[39m\n\u001b[1;32m--> 748\u001b[0m \u001b[38;5;28;01mreturn\u001b[39;00m \u001b[38;5;28;43mself\u001b[39;49m\u001b[38;5;241;43m.\u001b[39;49m\u001b[43mexecute\u001b[49m\u001b[43m(\u001b[49m\u001b[43mCommand\u001b[49m\u001b[38;5;241;43m.\u001b[39;49m\u001b[43mFIND_ELEMENT\u001b[49m\u001b[43m,\u001b[49m\u001b[43m \u001b[49m\u001b[43m{\u001b[49m\u001b[38;5;124;43m\"\u001b[39;49m\u001b[38;5;124;43musing\u001b[39;49m\u001b[38;5;124;43m\"\u001b[39;49m\u001b[43m:\u001b[49m\u001b[43m \u001b[49m\u001b[43mby\u001b[49m\u001b[43m,\u001b[49m\u001b[43m \u001b[49m\u001b[38;5;124;43m\"\u001b[39;49m\u001b[38;5;124;43mvalue\u001b[39;49m\u001b[38;5;124;43m\"\u001b[39;49m\u001b[43m:\u001b[49m\u001b[43m \u001b[49m\u001b[43mvalue\u001b[49m\u001b[43m}\u001b[49m\u001b[43m)\u001b[49m[\u001b[38;5;124m\"\u001b[39m\u001b[38;5;124mvalue\u001b[39m\u001b[38;5;124m\"\u001b[39m]\n",
      "File \u001b[1;32mc:\\Users\\Gadyel\\AppData\\Local\\Programs\\Python\\Python312\\Lib\\site-packages\\selenium\\webdriver\\remote\\webdriver.py:354\u001b[0m, in \u001b[0;36mWebDriver.execute\u001b[1;34m(self, driver_command, params)\u001b[0m\n\u001b[0;32m    352\u001b[0m response \u001b[38;5;241m=\u001b[39m \u001b[38;5;28mself\u001b[39m\u001b[38;5;241m.\u001b[39mcommand_executor\u001b[38;5;241m.\u001b[39mexecute(driver_command, params)\n\u001b[0;32m    353\u001b[0m \u001b[38;5;28;01mif\u001b[39;00m response:\n\u001b[1;32m--> 354\u001b[0m     \u001b[38;5;28;43mself\u001b[39;49m\u001b[38;5;241;43m.\u001b[39;49m\u001b[43merror_handler\u001b[49m\u001b[38;5;241;43m.\u001b[39;49m\u001b[43mcheck_response\u001b[49m\u001b[43m(\u001b[49m\u001b[43mresponse\u001b[49m\u001b[43m)\u001b[49m\n\u001b[0;32m    355\u001b[0m     response[\u001b[38;5;124m\"\u001b[39m\u001b[38;5;124mvalue\u001b[39m\u001b[38;5;124m\"\u001b[39m] \u001b[38;5;241m=\u001b[39m \u001b[38;5;28mself\u001b[39m\u001b[38;5;241m.\u001b[39m_unwrap_value(response\u001b[38;5;241m.\u001b[39mget(\u001b[38;5;124m\"\u001b[39m\u001b[38;5;124mvalue\u001b[39m\u001b[38;5;124m\"\u001b[39m, \u001b[38;5;28;01mNone\u001b[39;00m))\n\u001b[0;32m    356\u001b[0m     \u001b[38;5;28;01mreturn\u001b[39;00m response\n",
      "File \u001b[1;32mc:\\Users\\Gadyel\\AppData\\Local\\Programs\\Python\\Python312\\Lib\\site-packages\\selenium\\webdriver\\remote\\errorhandler.py:229\u001b[0m, in \u001b[0;36mErrorHandler.check_response\u001b[1;34m(self, response)\u001b[0m\n\u001b[0;32m    227\u001b[0m         alert_text \u001b[38;5;241m=\u001b[39m value[\u001b[38;5;124m\"\u001b[39m\u001b[38;5;124malert\u001b[39m\u001b[38;5;124m\"\u001b[39m]\u001b[38;5;241m.\u001b[39mget(\u001b[38;5;124m\"\u001b[39m\u001b[38;5;124mtext\u001b[39m\u001b[38;5;124m\"\u001b[39m)\n\u001b[0;32m    228\u001b[0m     \u001b[38;5;28;01mraise\u001b[39;00m exception_class(message, screen, stacktrace, alert_text)  \u001b[38;5;66;03m# type: ignore[call-arg]  # mypy is not smart enough here\u001b[39;00m\n\u001b[1;32m--> 229\u001b[0m \u001b[38;5;28;01mraise\u001b[39;00m exception_class(message, screen, stacktrace)\n",
      "\u001b[1;31mNoSuchElementException\u001b[0m: Message: no such element: Unable to locate element: {\"method\":\"xpath\",\"selector\":\"//*[@id=\"AFRAME_1206P\"]/div/div/div[2]/table/tbody/tr[9]\"}\n  (Session info: chrome=130.0.6723.59); For documentation on this error, please visit: https://www.selenium.dev/documentation/webdriver/troubleshooting/errors#no-such-element-exception\nStacktrace:\n\tGetHandleVerifier [0x00FE74D3+23139]\n\t(No symbol) [0x00F6FCA4]\n\t(No symbol) [0x00E4C2A3]\n\t(No symbol) [0x00E8DC66]\n\t(No symbol) [0x00E8DEAB]\n\t(No symbol) [0x00ECB992]\n\t(No symbol) [0x00EAFEC4]\n\t(No symbol) [0x00EC9564]\n\t(No symbol) [0x00EAFC16]\n\t(No symbol) [0x00E8216C]\n\t(No symbol) [0x00E830FD]\n\tGetHandleVerifier [0x0127BAA3+2727987]\n\tGetHandleVerifier [0x012D476E+3091710]\n\tGetHandleVerifier [0x012CCF52+3060962]\n\tGetHandleVerifier [0x01081460+653808]\n\t(No symbol) [0x00F78E5D]\n\t(No symbol) [0x00F75A48]\n\t(No symbol) [0x00F75BE0]\n\t(No symbol) [0x00F68110]\n\tBaseThreadInitThunk [0x76507BA9+25]\n\tRtlInitializeExceptionChain [0x7799C0CB+107]\n\tRtlClearBits [0x7799C04F+191]\n"
     ]
    }
   ],
   "source": [
    "from selenium import webdriver\n",
    "from webdriver_manager.chrome import ChromeDriverManager\n",
    "from selenium.webdriver.chrome.service import Service\n",
    "\n",
    "servico = Service(ChromeDriverManager().install())\n",
    "navegador = webdriver.Chrome(service=servico)\n",
    "navegador.get(\"https://geoprd.sabesp.com.br/geocallltc/LoginServlet\")\n",
    "\n",
    "# Logar\n",
    "navegador.find_element('xpath', '//*[@id=\"USER\"]').send_keys(\"65451\")\n",
    "navegador.find_element('xpath', '//*[@id=\"INPUTPASS\"]').send_keys(\"Sabesp@2024\")\n",
    "navegador.find_element('xpath', '//*[@id=\"submbtn\"]').click()\n",
    "\n",
    "#navegar\n",
    "navegador.find_element('xpath', '//*[@id=\"TBB_tbm2\"]/div[2]').click()\n",
    "navegador.find_element('xpath', '//*[@id=\"TBB_tbm2\"]/div[2]/div[2]').click()\n",
    "navegador.find_element('xpath', '/html/body/div[2]/table/tbody/tr[2]/td/table/tbody/tr/td/div[1]/div[2]/div/form/table[1]/tbody/tr[2]/td[2]/table/tbody/tr/td[2]/img').click()\n",
    "navegador.find_element('xpath', '//*[@id=\"AFRAME_1206P\"]/div/div/div[2]/table/tbody/tr[9]').click()\n",
    "navegador.find_element('xpath', '/html/body/div[2]/table/tbody/tr[2]/td/table/tbody/tr/td/div[5]/div/div/div/div/div/div[2]/div/form/div[4]/table/tbody/tr/td/button').click()\n",
    "navegador.find_element('xpath', '//*[@id=\"1001\"]').click()\n",
    "navegador.find_element('xpath', '//*[@id=\"1001\"]/option[4]').click()\n",
    "navegador.find_element('xpath', '//*[@id=\"1002\"]/option[3]').click()\n",
    "navegador.find_element('xpath', '//*[@id=\"fff\"]/table[1]/tbody/tr[6]/td[2]/table/tbody/tr/td[2]').click()\n",
    "navegador.find_element('xpath', '//*[@id=\"AFRAME_1057P\"]/div/div/div/table/tbody/tr[2]').click()\n",
    "navegador.find_element('xpath', '//*[@id=\"105d\"]').click()\n",
    "navegador.find_element('xpath', '//*[@id=\"1004\"]').clear()\n",
    "navegador.find_element('xpath', '//*[@id=\"1004\"]').send_keys(\"02/10/2024\")\n",
    "navegador.find_element('xpath', '//*[@id=\"1008\"]').click()\n",
    "navegador.find_element('xpath', '//*[@id=\"AFRAME_1009\"]/div[1]/div/img[2]').click()\n",
    "navegador.find_element('xpath', '/html/body/div[113]').click()\n",
    "navegador.find_element('xpath', '').click()\n"
   ]
  },
  {
   "cell_type": "code",
   "execution_count": null,
   "metadata": {},
   "outputs": [],
   "source": [
    "<img src=\"r/std/icons/control/edit55x64.png\" class=\"iconInline Enabled\" draggable=\"false\" align=\"absmiddle\" onclick=\"sendEvent(0,event,this,true,0,'','116c','Search#','','','','','');\" alt=\"Editar\" tooltip=\"Editar\">"
   ]
  }
 ],
 "metadata": {
  "kernelspec": {
   "display_name": "Python 3",
   "language": "python",
   "name": "python3"
  },
  "language_info": {
   "codemirror_mode": {
    "name": "ipython",
    "version": 3
   },
   "file_extension": ".py",
   "mimetype": "text/x-python",
   "name": "python",
   "nbconvert_exporter": "python",
   "pygments_lexer": "ipython3",
   "version": "3.12.5"
  }
 },
 "nbformat": 4,
 "nbformat_minor": 2
}
